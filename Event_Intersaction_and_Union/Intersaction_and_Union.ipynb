{
  "nbformat": 4,
  "nbformat_minor": 0,
  "metadata": {
    "colab": {
      "name": "Intersaction_and_Union.ipynb",
      "version": "0.3.2",
      "provenance": []
    },
    "kernelspec": {
      "name": "python3",
      "display_name": "Python 3"
    }
  },
  "cells": [
    {
      "cell_type": "markdown",
      "metadata": {
        "id": "zZN6q0CIgHh9",
        "colab_type": "text"
      },
      "source": [
        "# Intersaction of Event\n",
        "\n",
        "---\n",
        "\n"
      ]
    },
    {
      "cell_type": "code",
      "metadata": {
        "id": "ddwYCw7EJOLy",
        "colab_type": "code",
        "colab": {
          "base_uri": "https://localhost:8080/",
          "height": 34
        },
        "outputId": "628fd4bf-ebe4-4346-f476-c3ad012e5514"
      },
      "source": [
        "dice=[1,2,3,4,5,6]\n",
        "\n",
        "n=len(dice)\n",
        "\n",
        "for i in range(0,n):\n",
        "    if((dice[i]%2==0)and(dice[i]%3)==0):\n",
        "        print(dice[i])"
      ],
      "execution_count": 1,
      "outputs": [
        {
          "output_type": "stream",
          "text": [
            "6\n"
          ],
          "name": "stdout"
        }
      ]
    },
    {
      "cell_type": "markdown",
      "metadata": {
        "id": "Q8gY-vc6gSSf",
        "colab_type": "text"
      },
      "source": [
        "# Union of events\n",
        "\n",
        "---\n",
        "\n",
        "\n"
      ]
    },
    {
      "cell_type": "code",
      "metadata": {
        "id": "JXw0SR7RgMMs",
        "colab_type": "code",
        "colab": {
          "base_uri": "https://localhost:8080/",
          "height": 51
        },
        "outputId": "f7f367f2-d034-4e32-a5e2-1bbc6bea5a5e"
      },
      "source": [
        "dice=[1,2,3,4,5,6]\n",
        "\n",
        "n=len(dice)\n",
        "\n",
        "for i in range(0,n):\n",
        "    if((dice[i]==4)or(dice[i]==6)):\n",
        "        print(dice[i])"
      ],
      "execution_count": 2,
      "outputs": [
        {
          "output_type": "stream",
          "text": [
            "4\n",
            "6\n"
          ],
          "name": "stdout"
        }
      ]
    }
  ]
}